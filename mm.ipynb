{
 "cells": [
  {
   "cell_type": "markdown",
   "id": "c3d4f57c",
   "metadata": {},
   "source": [
    "### Outskill Assignment 1 "
   ]
  },
  {
   "cell_type": "code",
   "execution_count": 1,
   "id": "720aea6f",
   "metadata": {},
   "outputs": [],
   "source": [
    "import numpy as np\n",
    "import pandas as pd"
   ]
  },
  {
   "cell_type": "code",
   "execution_count": 3,
   "id": "c67a6a6f",
   "metadata": {},
   "outputs": [
    {
     "name": "stdout",
     "output_type": "stream",
     "text": [
      "Index(['job_id', 'job_title', 'salary_usd', 'experience_level',\n",
      "       'employment_type', 'company_location', 'company_size', 'remote_ratio',\n",
      "       'required_skills', 'education_required', 'years_experience', 'industry',\n",
      "       'posting_date', 'application_deadline', 'benefits_score',\n",
      "       'company_name'],\n",
      "      dtype='object')\n"
     ]
    }
   ],
   "source": [
    "def read_file(filename):\n",
    "    df = pd.read_csv(filename)\n",
    "    return df\n",
    "\n",
    "df = read_file(\"ai_job_dataset.csv\")\n",
    "print(df.columns)\n"
   ]
  },
  {
   "cell_type": "code",
   "execution_count": 4,
   "id": "ee2dc6e2",
   "metadata": {},
   "outputs": [
    {
     "name": "stdout",
     "output_type": "stream",
     "text": [
      "['China', 'Canada', 'Switzerland', 'India', 'France', 'Germany', 'United Kingdom', 'Singapore', 'Austria', 'Sweden', 'South Korea', 'Norway', 'Netherlands', 'United States', 'Israel', 'Australia', 'Ireland', 'Denmark', 'Finland', 'Japan']\n"
     ]
    }
   ],
   "source": [
    "# 1. Get Company Location\n",
    "def get_countries(df):\n",
    "    countries = []\n",
    "    for item in df['company_location']:\n",
    "        if item in countries:\n",
    "            continue\n",
    "        else:\n",
    "            countries.append(item)\n",
    "    return countries\n",
    "\n",
    "countries = get_countries(df)\n",
    "print(countries)"
   ]
  },
  {
   "cell_type": "code",
   "execution_count": 30,
   "id": "3fe58776",
   "metadata": {},
   "outputs": [
    {
     "name": "stdout",
     "output_type": "stream",
     "text": [
      "['FL' 'FT' 'CT' 'PT']\n",
      "      min   mean     max\n",
      "FL  33918  83897  198957\n",
      "FT  32519  84056  197244\n",
      "CT  33117  83733  197785\n",
      "PT  33282  85251  203402\n"
     ]
    },
    {
     "data": {
      "text/html": [
       "<div>\n",
       "<style scoped>\n",
       "    .dataframe tbody tr th:only-of-type {\n",
       "        vertical-align: middle;\n",
       "    }\n",
       "\n",
       "    .dataframe tbody tr th {\n",
       "        vertical-align: top;\n",
       "    }\n",
       "\n",
       "    .dataframe thead th {\n",
       "        text-align: right;\n",
       "    }\n",
       "</style>\n",
       "<table border=\"1\" class=\"dataframe\">\n",
       "  <thead>\n",
       "    <tr style=\"text-align: right;\">\n",
       "      <th></th>\n",
       "      <th>employ_type</th>\n",
       "      <th>min</th>\n",
       "      <th>mean</th>\n",
       "      <th>max</th>\n",
       "    </tr>\n",
       "  </thead>\n",
       "  <tbody>\n",
       "    <tr>\n",
       "      <th>0</th>\n",
       "      <td>FL</td>\n",
       "      <td>33918</td>\n",
       "      <td>83897</td>\n",
       "      <td>198957</td>\n",
       "    </tr>\n",
       "    <tr>\n",
       "      <th>1</th>\n",
       "      <td>FT</td>\n",
       "      <td>32519</td>\n",
       "      <td>84056</td>\n",
       "      <td>197244</td>\n",
       "    </tr>\n",
       "    <tr>\n",
       "      <th>2</th>\n",
       "      <td>CT</td>\n",
       "      <td>33117</td>\n",
       "      <td>83733</td>\n",
       "      <td>197785</td>\n",
       "    </tr>\n",
       "    <tr>\n",
       "      <th>3</th>\n",
       "      <td>PT</td>\n",
       "      <td>33282</td>\n",
       "      <td>85251</td>\n",
       "      <td>203402</td>\n",
       "    </tr>\n",
       "  </tbody>\n",
       "</table>\n",
       "</div>"
      ],
      "text/plain": [
       "  employ_type    min   mean     max\n",
       "0          FL  33918  83897  198957\n",
       "1          FT  32519  84056  197244\n",
       "2          CT  33117  83733  197785\n",
       "3          PT  33282  85251  203402"
      ]
     },
     "execution_count": 30,
     "metadata": {},
     "output_type": "execute_result"
    }
   ],
   "source": [
    "# 2. Salary Range per emp type for country as input\n",
    "\n",
    "from statistics import mean\n",
    "\n",
    "def salary_range_per_type(df, country):\n",
    "    sub = df[df['company_location'] == country]\n",
    "    if sub.empty:\n",
    "        return f\"Error no data found\"\n",
    "    \n",
    "    range_dict = {}\n",
    "    etypes = sub['employment_type'].unique()\n",
    "    if len(etypes) == 0:\n",
    "        return \"ETypes not found\"\n",
    "    print(etypes)\n",
    "    for t in etypes:\n",
    "        filter = sub[sub['employment_type'] == t]\n",
    "        salaries = filter['salary_usd']\n",
    "        range_dict [t] = [\n",
    "            round(salaries.min()),\n",
    "            round(salaries.mean()),\n",
    "            round(salaries.max())\n",
    "        ]\n",
    "    new_frame = pd.DataFrame.from_dict(range_dict, orient=\"index\", columns=['min', 'mean', 'max'])\n",
    "    print(new_frame)\n",
    "    new_frame.reset_index(inplace = True)\n",
    "    new_frame.rename(columns={'index':'employ_type'}, inplace=True)\n",
    "    return new_frame\n",
    "        \n",
    "salary_range_per_type(df, \"India\")\n"
   ]
  },
  {
   "cell_type": "code",
   "execution_count": 48,
   "id": "13c5a8d6",
   "metadata": {},
   "outputs": [
    {
     "name": "stdout",
     "output_type": "stream",
     "text": [
      "China  :  {'CT': 6.02, 'FT': 6.87, 'PT': 5.61, 'FL': 5.85}\n",
      "Canada  :  {'CT': 6.83, 'PT': 6.07, 'FT': 6.01, 'FL': 6.38}\n",
      "Switzerland  :  {'FL': 6.06, 'FT': 6.14, 'PT': 5.54, 'CT': 6.01}\n",
      "India  :  {'FL': 6.23, 'FT': 6.09, 'CT': 5.99, 'PT': 6.13}\n",
      "France  :  {'PT': 6.12, 'FL': 6.16, 'CT': 6.19, 'FT': 6.24}\n",
      "Germany  :  {'CT': 6.27, 'FT': 6.25, 'PT': 6.02, 'FL': 6.54}\n",
      "United Kingdom  :  {'FL': 5.93, 'PT': 6.78, 'FT': 6.44, 'CT': 5.33}\n",
      "Singapore  :  {'CT': 6.37, 'FT': 6.2, 'FL': 6.54, 'PT': 5.93}\n",
      "Austria  :  {'PT': 6.23, 'FT': 6.34, 'FL': 6.18, 'CT': 6.41}\n",
      "Sweden  :  {'PT': 6.98, 'FT': 6.1, 'FL': 5.72, 'CT': 6.22}\n",
      "South Korea  :  {'CT': 6.32, 'FL': 5.84, 'FT': 6.45, 'PT': 5.77}\n",
      "Norway  :  {'CT': 6.39, 'FT': 6.28, 'PT': 6.38, 'FL': 6.72}\n",
      "Netherlands  :  {'PT': 5.91, 'FT': 6.18, 'FL': 6.29, 'CT': 6.47}\n",
      "United States  :  {'PT': 6.17, 'FT': 6.47, 'FL': 5.85, 'CT': 6.95}\n",
      "Israel  :  {'PT': 6.32, 'CT': 6.1, 'FL': 6.01, 'FT': 6.81}\n",
      "Australia  :  {'CT': 6.05, 'PT': 5.43, 'FT': 6.44, 'FL': 6.28}\n",
      "Ireland  :  {'CT': 6.52, 'FT': 6.1, 'FL': 5.61, 'PT': 6.06}\n",
      "Denmark  :  {'FT': 6.81, 'PT': 7.16, 'FL': 6.76, 'CT': 6.36}\n",
      "Finland  :  {'FL': 6.68, 'CT': 7.37, 'PT': 5.85, 'FT': 6.49}\n",
      "Japan  :  {'PT': 6.74, 'FT': 5.97, 'FL': 5.83, 'CT': 6.51}\n"
     ]
    }
   ],
   "source": [
    "# 3. Avg Exp Per Level = input country\n",
    "def avg_experience(df, c):\n",
    "    sub = df[df['company_location'] == c]\n",
    "    levels = sub['employment_type'].unique()\n",
    "    return_dict = {}\n",
    "    for t in levels:\n",
    "        filtered = sub[sub['employment_type'] == t]['years_experience'].tolist()\n",
    "        return_dict[t] = round(mean(filtered),2)\n",
    "    for key, value in return_dict:\n",
    "        avg = []\n",
    "    return return_dict\n",
    "\n",
    "# avg_experience(df, \"India\")\n",
    "for c in countries:\n",
    "    print (c, \" : \", avg_experience(df, c))"
   ]
  },
  {
   "cell_type": "code",
   "execution_count": 60,
   "id": "516b7e9b",
   "metadata": {},
   "outputs": [
    {
     "name": "stdout",
     "output_type": "stream",
     "text": [
      "China : 15\n",
      "Canada : 15\n",
      "Switzerland : 15\n",
      "India : 15\n",
      "France : 15\n",
      "Germany : 15\n",
      "United Kingdom : 15\n",
      "Singapore : 15\n",
      "Austria : 15\n",
      "Sweden : 15\n",
      "South Korea : 15\n",
      "Norway : 15\n",
      "Netherlands : 15\n",
      "United States : 15\n",
      "Israel : 15\n",
      "Australia : 15\n",
      "Ireland : 15\n",
      "Denmark : 15\n",
      "Finland : 15\n",
      "Japan : 15\n"
     ]
    }
   ],
   "source": [
    "# 4. Ind per country as a dict\n",
    "def get_industries(df, c):\n",
    "    sub = df[df['company_location'] == c]['industry'].unique()\n",
    "    count = 0\n",
    "    for items in sub:\n",
    "        count+=1\n",
    "    return count\n",
    "for c in countries:\n",
    "    print(c, \":\", get_industries(df, \"India\"))"
   ]
  },
  {
   "cell_type": "code",
   "execution_count": 90,
   "id": "3ba6770c",
   "metadata": {},
   "outputs": [
    {
     "name": "stdout",
     "output_type": "stream",
     "text": [
      "['China' 'Canada' 'Switzerland' 'India' 'France' 'Germany'\n",
      " 'United Kingdom' 'Singapore' 'Austria' 'Sweden' 'South Korea' 'Norway'\n",
      " 'Netherlands' 'United States' 'Israel' 'Australia' 'Ireland' 'Denmark'\n",
      " 'Finland' 'Japan']\n",
      "             index  min  mean   max\n",
      "0            China  5.0  7.52  10.0\n",
      "1           Canada  5.0  7.57  10.0\n",
      "2      Switzerland  5.0  7.45  10.0\n",
      "3            India  5.0  7.57  10.0\n",
      "4           France  5.0  7.51  10.0\n",
      "5          Germany  5.0  7.49  10.0\n",
      "6   United Kingdom  5.0  7.44  10.0\n",
      "7        Singapore  5.0  7.48  10.0\n",
      "8          Austria  5.0  7.52  10.0\n",
      "9           Sweden  5.0  7.50  10.0\n",
      "10     South Korea  5.0  7.42  10.0\n",
      "11          Norway  5.0  7.48  10.0\n",
      "12     Netherlands  5.0  7.51  10.0\n",
      "13   United States  5.0  7.57  10.0\n",
      "14          Israel  5.0  7.53  10.0\n",
      "15       Australia  5.0  7.52  10.0\n",
      "16         Ireland  5.0  7.39  10.0\n",
      "17         Denmark  5.0  7.60  10.0\n",
      "18         Finland  5.0  7.54  10.0\n",
      "19           Japan  5.0  7.47  10.0\n"
     ]
    }
   ],
   "source": [
    "# 5. Get Benefits \n",
    "\n",
    "def benefits(df):\n",
    "    countries = df['company_location'].unique()\n",
    "    print (countries)\n",
    "    d1 = {}\n",
    "    for c in countries:\n",
    "        d1[c] = [\n",
    "            round(min(df[df['company_location'] == c]['benefits_score']), 2),\n",
    "            round(mean(df[df['company_location'] == c]['benefits_score']), 2),\n",
    "            round(max(df[df['company_location'] == c]['benefits_score']), 2)\n",
    "        ]\n",
    "    new_frames = pd.DataFrame.from_dict(d1, orient=\"index\", columns=[ \"min\", \"mean\", \"max\"])\n",
    "    new_frames.reset_index(inplace = True)\n",
    "    print(new_frames)\n",
    "benefits(df)"
   ]
  },
  {
   "cell_type": "code",
   "execution_count": null,
   "id": "f77fd7b4",
   "metadata": {},
   "outputs": [],
   "source": []
  }
 ],
 "metadata": {
  "kernelspec": {
   "display_name": ".venv",
   "language": "python",
   "name": "python3"
  },
  "language_info": {
   "codemirror_mode": {
    "name": "ipython",
    "version": 3
   },
   "file_extension": ".py",
   "mimetype": "text/x-python",
   "name": "python",
   "nbconvert_exporter": "python",
   "pygments_lexer": "ipython3",
   "version": "3.13.4"
  }
 },
 "nbformat": 4,
 "nbformat_minor": 5
}
